{
 "cells": [
  {
   "cell_type": "code",
   "execution_count": 1,
   "id": "7844d33f-3f70-406b-977c-c81e899c530d",
   "metadata": {},
   "outputs": [
    {
     "name": "stdout",
     "output_type": "stream",
     "text": [
      "Collecting rafay==1.0.1\n",
      "  Downloading rafay-1.0.1-py3-none-any.whl.metadata (262 bytes)\n",
      "Downloading rafay-1.0.1-py3-none-any.whl (1.7 kB)\n",
      "Installing collected packages: rafay\n",
      "Successfully installed rafay-1.0.1\n"
     ]
    }
   ],
   "source": [
    "!pip install rafay==1.0.1"
   ]
  },
  {
   "cell_type": "code",
   "execution_count": 8,
   "id": "574beea4-9bea-47c3-a7fc-acfa9832a900",
   "metadata": {},
   "outputs": [
    {
     "ename": "ImportError",
     "evalue": "cannot import name 'main' from 'rafay.rafay' (C:\\Users\\YouExcel\\Desktop\\rafay\\rafay\\rafay.py)",
     "output_type": "error",
     "traceback": [
      "\u001b[31m---------------------------------------------------------------------------\u001b[39m",
      "\u001b[31mImportError\u001b[39m                               Traceback (most recent call last)",
      "\u001b[36mCell\u001b[39m\u001b[36m \u001b[39m\u001b[32mIn[8]\u001b[39m\u001b[32m, line 1\u001b[39m\n\u001b[32m----> \u001b[39m\u001b[32m1\u001b[39m \u001b[38;5;28;01mimport\u001b[39;00m\u001b[38;5;250m \u001b[39m\u001b[34;01mrafay\u001b[39;00m\u001b[34;01m.\u001b[39;00m\u001b[34;01mrafay\u001b[39;00m\n",
      "\u001b[36mFile \u001b[39m\u001b[32m~\\Desktop\\rafay\\rafay\\__init__.py:1\u001b[39m\n\u001b[32m----> \u001b[39m\u001b[32m1\u001b[39m \u001b[38;5;28;01mfrom\u001b[39;00m\u001b[38;5;250m \u001b[39m\u001b[34;01m.\u001b[39;00m\u001b[34;01mrafay\u001b[39;00m\u001b[38;5;250m \u001b[39m\u001b[38;5;28;01mimport\u001b[39;00m main\n",
      "\u001b[31mImportError\u001b[39m: cannot import name 'main' from 'rafay.rafay' (C:\\Users\\YouExcel\\Desktop\\rafay\\rafay\\rafay.py)"
     ]
    }
   ],
   "source": [
    "import rafay.rafay"
   ]
  },
  {
   "cell_type": "code",
   "execution_count": null,
   "id": "75d29926-ac22-4cce-8d6f-606fac272fcd",
   "metadata": {},
   "outputs": [],
   "source": []
  }
 ],
 "metadata": {
  "kernelspec": {
   "display_name": "Python 3 (ipykernel)",
   "language": "python",
   "name": "python3"
  },
  "language_info": {
   "codemirror_mode": {
    "name": "ipython",
    "version": 3
   },
   "file_extension": ".py",
   "mimetype": "text/x-python",
   "name": "python",
   "nbconvert_exporter": "python",
   "pygments_lexer": "ipython3",
   "version": "3.13.7"
  }
 },
 "nbformat": 4,
 "nbformat_minor": 5
}
