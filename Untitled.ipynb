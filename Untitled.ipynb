{
 "cells": [
  {
   "cell_type": "code",
   "execution_count": 1,
   "id": "7844d33f-3f70-406b-977c-c81e899c530d",
   "metadata": {},
   "outputs": [
    {
     "name": "stdout",
     "output_type": "stream",
     "text": [
      "Collecting rafay==1.0.1\n",
      "  Downloading rafay-1.0.1-py3-none-any.whl.metadata (262 bytes)\n",
      "Downloading rafay-1.0.1-py3-none-any.whl (1.7 kB)\n",
      "Installing collected packages: rafay\n",
      "Successfully installed rafay-1.0.1\n"
     ]
    }
   ],
   "source": [
    "!pip install rafay==1.0.1"
   ]
  },
  {
   "cell_type": "code",
   "execution_count": 12,
   "id": "574beea4-9bea-47c3-a7fc-acfa9832a900",
   "metadata": {},
   "outputs": [],
   "source": [
    "import rafay as rf"
   ]
  },
  {
   "cell_type": "code",
   "execution_count": 14,
   "id": "75d29926-ac22-4cce-8d6f-606fac272fcd",
   "metadata": {},
   "outputs": [
    {
     "ename": "AttributeError",
     "evalue": "module 'rafay' has no attribute 'count_vowels'",
     "output_type": "error",
     "traceback": [
      "\u001b[31m---------------------------------------------------------------------------\u001b[39m",
      "\u001b[31mAttributeError\u001b[39m                            Traceback (most recent call last)",
      "\u001b[36mCell\u001b[39m\u001b[36m \u001b[39m\u001b[32mIn[14]\u001b[39m\u001b[32m, line 1\u001b[39m\n\u001b[32m----> \u001b[39m\u001b[32m1\u001b[39m \u001b[43mrf\u001b[49m\u001b[43m.\u001b[49m\u001b[43mcount_vowels\u001b[49m(s)\n",
      "\u001b[31mAttributeError\u001b[39m: module 'rafay' has no attribute 'count_vowels'"
     ]
    }
   ],
   "source": [
    "rf.count_vowels(s)"
   ]
  },
  {
   "cell_type": "code",
   "execution_count": null,
   "id": "05fbb322-4617-4178-a210-2b935f7bce6d",
   "metadata": {},
   "outputs": [],
   "source": []
  }
 ],
 "metadata": {
  "kernelspec": {
   "display_name": "Python 3 (ipykernel)",
   "language": "python",
   "name": "python3"
  },
  "language_info": {
   "codemirror_mode": {
    "name": "ipython",
    "version": 3
   },
   "file_extension": ".py",
   "mimetype": "text/x-python",
   "name": "python",
   "nbconvert_exporter": "python",
   "pygments_lexer": "ipython3",
   "version": "3.13.7"
  }
 },
 "nbformat": 4,
 "nbformat_minor": 5
}
